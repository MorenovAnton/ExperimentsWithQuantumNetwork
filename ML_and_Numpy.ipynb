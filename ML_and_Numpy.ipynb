{
 "cells": [
  {
   "cell_type": "code",
   "execution_count": 21,
   "id": "bc239c61",
   "metadata": {},
   "outputs": [],
   "source": [
    "import numpy as np"
   ]
  },
  {
   "cell_type": "code",
   "execution_count": 22,
   "id": "2ac2916d",
   "metadata": {},
   "outputs": [],
   "source": [
    "class NeuralNetwork:\n",
    "    def __init__(self, x, y):\n",
    "        # Вектор признаков X\n",
    "        self.input = x\n",
    "        # смещение b1\n",
    "        self.b1 = 1\n",
    "        # смещение и2\n",
    "        self.b2 = 1\n",
    "        # вектор вестов\n",
    "        self.weights1 = np.array([[0.1, 0.3],\n",
    "                                 [0.2, 0.4]])\n",
    "        \n",
    "        self.weights2 = np.array([[0.5], \n",
    "                                 [0.6]])\n",
    "        \n",
    "        self.y = y\n",
    "        self.output = np.zeros(self.y.shape)\n",
    "        \n",
    "    # Сигмоида\n",
    "    def sigmoid(self, x):\n",
    "        return 1.0/(1 + np.exp(-x))\n",
    "    \n",
    "    # ReLU\n",
    "    def relu(self, x):\n",
    "        return x * (x > 0)\n",
    "    \n",
    "    def feedforward(self):\n",
    "        self.layer1 = self.sigmoid(np.dot(self.input, self.weights1)+self.b1)\n",
    "        self.output = self.relu(np.dot(self.layer1, self.weights2)+self.b2)"
   ]
  },
  {
   "cell_type": "markdown",
   "id": "63db1a5b",
   "metadata": {},
   "source": [
    "![title](./conspect/1.png)"
   ]
  },
  {
   "cell_type": "code",
   "execution_count": 3,
   "id": "df019db7",
   "metadata": {},
   "outputs": [],
   "source": [
    "X = np.array([2,3])\n",
    "y = np.array([2])"
   ]
  },
  {
   "cell_type": "code",
   "execution_count": 4,
   "id": "e6ffb185",
   "metadata": {},
   "outputs": [
    {
     "data": {
      "text/plain": [
       "array([[0.1, 0.3],\n",
       "       [0.2, 0.4]])"
      ]
     },
     "execution_count": 4,
     "metadata": {},
     "output_type": "execute_result"
    }
   ],
   "source": [
    "np.array([[0.1, 0.3],[0.2, 0.4]])"
   ]
  },
  {
   "cell_type": "code",
   "execution_count": 5,
   "id": "543f0736",
   "metadata": {},
   "outputs": [
    {
     "data": {
      "text/plain": [
       "array([1.8, 2.8])"
      ]
     },
     "execution_count": 5,
     "metadata": {},
     "output_type": "execute_result"
    }
   ],
   "source": [
    "np.dot(X, np.array([[0.1, 0.3],[0.2, 0.4]]))+1"
   ]
  },
  {
   "cell_type": "code",
   "execution_count": 6,
   "id": "8f10079d",
   "metadata": {},
   "outputs": [],
   "source": [
    "nn = NeuralNetwork(x = X, y = y)\n",
    "nn.feedforward()"
   ]
  },
  {
   "cell_type": "code",
   "execution_count": 7,
   "id": "8618387d",
   "metadata": {},
   "outputs": [
    {
     "name": "stdout",
     "output_type": "stream",
     "text": [
      "layer1 = [0.85814894 0.94267582]\n",
      "\n",
      "Output = [1.99467996]\n",
      "\n",
      "Error = [1.41514021e-05]\n",
      "\n"
     ]
    }
   ],
   "source": [
    "print(f'layer1 = {nn.layer1}\\n')\n",
    "# Ответ на обновленных весах\n",
    "print(f'Output = {nn.output}\\n')\n",
    "# Ошибка\n",
    "print(f'Error = {1/len(X)*(y - nn.output)**2}\\n')"
   ]
  },
  {
   "cell_type": "markdown",
   "id": "09197d85",
   "metadata": {},
   "source": [
    "![title](./conspect/2.png)"
   ]
  },
  {
   "cell_type": "code",
   "execution_count": 8,
   "id": "48f26312",
   "metadata": {},
   "outputs": [],
   "source": [
    "# Дальше идет пример реализации с добавлением обратного распрастранения ошибки"
   ]
  },
  {
   "cell_type": "markdown",
   "id": "a39b27ad",
   "metadata": {},
   "source": [
    "![title](./conspect/3.png)"
   ]
  },
  {
   "cell_type": "code",
   "execution_count": 9,
   "id": "f61c0014",
   "metadata": {},
   "outputs": [],
   "source": [
    "class NeuralNetwork:\n",
    "    def __init__(self, x, y, learning_rate):\n",
    "        # Вектор признаков X\n",
    "        self.input = x\n",
    "        # смещение b1\n",
    "        self.b1 = 1\n",
    "        # смещение и2\n",
    "        self.b2 = 1\n",
    "        # вектор вестов\n",
    "        self.weights1 = np.array([[0.1, 0.3],\n",
    "                                 [0.2, 0.4]])\n",
    "        \n",
    "        self.weights2 = np.array([[0.5], \n",
    "                                 [0.6]])\n",
    "        \n",
    "        self.y = y\n",
    "        self.output = np.zeros(self.y.shape)\n",
    "        # скорость обучения\n",
    "        self.learning_rate = learning_rate\n",
    "        \n",
    "    # Сигмоида\n",
    "    def sigmoid(self, x):\n",
    "        return 1.0/(1 + np.exp(-x))\n",
    "    \n",
    "    # Производная сигмоиды\n",
    "    def sigmoid_derivative(self, x):\n",
    "        return x * (1.0 - x)\n",
    "    \n",
    "    # ReLU\n",
    "    def relu(self, x):\n",
    "        return x * (x > 0)\n",
    "    \n",
    "    # Производная ReLU\n",
    "    def relu_derivative(self, x):\n",
    "        return (x >= 0).astype(float)\n",
    "    \n",
    "    # Функция потерь\n",
    "    def loss(self, y, output):\n",
    "        return 1/2*(y-output)**2\n",
    "    \n",
    "    # Производная функции потерь\n",
    "    def loss_derivative(self, y, output):\n",
    "        return y - output\n",
    "    \n",
    "    # Прямое распространение ошибки\n",
    "    def feedforward(self):\n",
    "        self.layer1 = self.sigmoid(np.dot(self.input, self.weights1)+self.b1)\n",
    "        self.output = self.relu(np.dot(self.layer1, self.weights2)+self.b2)\n",
    "        self.error = self.loss(self.y, self.output)\n",
    "        \n",
    "        \n",
    "    # Обратное распространение ошибки\n",
    "    def backpropagation(self):\n",
    "        # Первое что необходимо найти первый шаг, без входного слоя. Это первый шаг когда мы\n",
    "        # начинаем шагать в обратную сторону\n",
    "        \"\"\"\n",
    "        ВЫХОДНОЙ СЛОЙ - предварительное вычисление\n",
    "        Вычисляем первую часть для w11(w21) -> ((target_o1 - outo_1)*outo_1*(1-outo_1))\n",
    "        \"\"\"\n",
    "        Q_w2 = self.learning_rate * self.loss_derivative(self.y, self.output) * self.relu_derivative(self.output)\n",
    "        \n",
    "        \n",
    "        # дальше выходы из скрытых слоев умножаем на вектор этих скрытых слоев и получаем\n",
    "        # то dQ по dw на которые нужно изменить веса на второй ступени\n",
    "        \"\"\"\n",
    "        ВЫХОДНОЙ СЛОЙ\n",
    "        Есть массив первичных вычислений Q_w2\n",
    "        для w11_2 --> Q_w2*outh_1\n",
    "        для w21_2 --> Q_w2*outh_2\n",
    "        Получаем массив --> [w11, w21]\n",
    "        \"\"\"\n",
    "        dQ_dw2 = Q_w2 * swlf.layer1.reshape(-1, 1)\n",
    "        \n",
    "        \n",
    "        \"\"\"\n",
    "        СКРЫТЫЙ СЛОЙ - предварительное вычисление\n",
    "        Для w11(w21) --> (target_o1-outo_1)*relu᾿*w_11_2*outh_1*(1-outo_1)*input_1\n",
    "        Для w12(w22) --> (target_o1-outo_1)*relu᾿*w_21_2*outh_2*(1-outo_2)*input_2\n",
    "\n",
    "        \"\"\"\n",
    "        dQ_dw1_1 = self.learning_rate * (self.loss_derivative(self.y, self.output) * \\\n",
    "                                         self.relu_derivative(self.output)) @ \\\n",
    "                                         self.weights2.T * \\\n",
    "                                         self.sigmoid_derivative(self.layer1)\n",
    "        \n",
    "        dQ_dw1 = np.matrix(dQ_dw1_1).T @ np.matrix(self.input)\n",
    "        \n",
    "        \n",
    "        # Обновляем веса\n",
    "        self.weights1 += dQ_dw1\n",
    "        self.weights2 += dQ_dw2"
   ]
  },
  {
   "cell_type": "code",
   "execution_count": 11,
   "id": "af473b9b",
   "metadata": {},
   "outputs": [],
   "source": [
    "nn = NeuralNetwork(x=X, y=y, learning_rate=0.1)"
   ]
  },
  {
   "cell_type": "code",
   "execution_count": null,
   "id": "6fda2c8e",
   "metadata": {},
   "outputs": [],
   "source": [
    "# TODO вставь картинки из видео"
   ]
  },
  {
   "cell_type": "code",
   "execution_count": 13,
   "id": "9eee40e1",
   "metadata": {},
   "outputs": [
    {
     "name": "stdout",
     "output_type": "stream",
     "text": [
      "==============EPOCH: 0========================\n",
      "weights1 =\n",
      " [[0.1 0.3]\n",
      " [0.2 0.4]] \n",
      "\n",
      "weights2 =\n",
      " [[0.5]\n",
      " [0.6]] \n",
      "\n",
      "hidden layer = [0.85814894 0.94267582] \n",
      "\n",
      "Output 0 = [1.99467996]\n",
      "Error 0 = [1.41514021e-05] \n",
      "\n",
      "==============EPOCH: 1========================\n",
      "weights1 =\n",
      " [[0.1 0.3]\n",
      " [0.2 0.4]] \n",
      "\n",
      "weights2 =\n",
      " [[0.5]\n",
      " [0.6]] \n",
      "\n",
      "hidden layer = [0.85814894 0.94267582] \n",
      "\n",
      "Output 1 = [1.99467996]\n",
      "Error 1 = [1.41514021e-05] \n",
      "\n"
     ]
    }
   ],
   "source": [
    "for i in range(2):\n",
    "    nn.feedforward()\n",
    "    nn.backpropagation\n",
    "    print(f'==============EPOCH: {i}========================')\n",
    "    print(f'weights1 =\\n {nn.weights1} \\n')\n",
    "    print(f'weights2 =\\n {nn.weights2} \\n')\n",
    "    \n",
    "    print(f'hidden layer = {nn.layer1} \\n')\n",
    "    \n",
    "    # Ответ на обновленных весах\n",
    "    print(f'Output {i} = {nn.output}')\n",
    "    print(f'Error {i} = {nn.error} \\n')"
   ]
  },
  {
   "cell_type": "code",
   "execution_count": null,
   "id": "6883f554",
   "metadata": {},
   "outputs": [],
   "source": []
  },
  {
   "cell_type": "code",
   "execution_count": null,
   "id": "373da2b8",
   "metadata": {},
   "outputs": [],
   "source": []
  },
  {
   "cell_type": "code",
   "execution_count": null,
   "id": "7d058326",
   "metadata": {},
   "outputs": [],
   "source": []
  },
  {
   "cell_type": "code",
   "execution_count": null,
   "id": "c4e050ba",
   "metadata": {},
   "outputs": [],
   "source": []
  },
  {
   "cell_type": "code",
   "execution_count": null,
   "id": "6d952f76",
   "metadata": {},
   "outputs": [],
   "source": []
  }
 ],
 "metadata": {
  "kernelspec": {
   "display_name": "Python 3",
   "language": "python",
   "name": "python3"
  },
  "language_info": {
   "codemirror_mode": {
    "name": "ipython",
    "version": 3
   },
   "file_extension": ".py",
   "mimetype": "text/x-python",
   "name": "python",
   "nbconvert_exporter": "python",
   "pygments_lexer": "ipython3",
   "version": "3.8.5"
  }
 },
 "nbformat": 4,
 "nbformat_minor": 5
}
